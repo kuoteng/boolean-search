{
 "cells": [
  {
   "cell_type": "markdown",
   "metadata": {},
   "source": [
    "首先引入一些會需要使用的模塊，在此使用多執行緒來處理單一查詢"
   ]
  },
  {
   "cell_type": "code",
   "execution_count": 1,
   "metadata": {},
   "outputs": [],
   "source": [
    "from threading import Thread, Lock\n",
    "import sys\n",
    "import csv\n",
    "import re"
   ]
  },
  {
   "cell_type": "markdown",
   "metadata": {},
   "source": [
    "為了辨識中文與英文新聞標題，定義正規表示法\n",
    "並且以THREAD_NUM規定會有幾個執行緒"
   ]
  },
  {
   "cell_type": "code",
   "execution_count": 2,
   "metadata": {},
   "outputs": [
    {
     "name": "stdout",
     "output_type": "stream",
     "text": [
      "CPU times: user 4.54 ms, sys: 106 µs, total: 4.65 ms\n",
      "Wall time: 4.62 ms\n"
     ]
    }
   ],
   "source": [
    "%%time\n",
    "RE_CJK = re.compile(r'[\\u4e00-\\ufaff]+', re.UNICODE)\n",
    "RE_ENG = re.compile(r'[a-zA-Z]+')\n",
    "RE_ALL = re.compile(r'[a-zA-Z\\u4e00-\\ufaff]+', re.UNICODE)\n",
    "\n",
    "THREAD_NUM = 2"
   ]
  },
  {
   "cell_type": "markdown",
   "metadata": {},
   "source": [
    "定義一個函數`index_parallel`，將新聞先以正規表示法取出需要的字詞（中文單字或英文單詞）\n",
    "在此`findall`方法會返回list，以不包含在定義好的正規表示法者斷開\n",
    "\n",
    "再來因為單一只會有2-gram或3-gram的中文查詢，強制將取出的字詞以2-gram或3-gram存入一個集合結構中（英文則全部存入），最後再存入指定的index欄位中\n",
    "\n",
    "因為我們會使用多執行緒來處理，所以會建立`THREAD_NUM`個index"
   ]
  },
  {
   "cell_type": "code",
   "execution_count": 3,
   "metadata": {},
   "outputs": [],
   "source": [
    "def index_parallel(source, start, step, index):\n",
    "    for i in range(start, len(source), 2):\n",
    "        cjk_strings = RE_CJK.findall(source[i][1])\n",
    "        eng_strings = RE_ENG.findall(source[i][1])\n",
    "        split_string = set()\n",
    "        for string in cjk_strings:\n",
    "            split_string.update([string[i:i+2] for i in range(0, len(string))])\n",
    "            split_string.update([string[i:i+3] for i in range(0, len(string))])\n",
    "        if eng_strings:\n",
    "            split_string.update(eng_strings)\n",
    "        index[i % THREAD_NUM].append(split_string)"
   ]
  },
  {
   "cell_type": "markdown",
   "metadata": {},
   "source": [
    "`split_line`函數則讀檔並以多執行緒執行`index_parallel`\n",
    "- index結構的list()數量與`THREAD_NUM`相關"
   ]
  },
  {
   "cell_type": "code",
   "execution_count": 4,
   "metadata": {},
   "outputs": [],
   "source": [
    "def split_line(filename):\n",
    "    csvfile = open(filename, 'r', newline='')\n",
    "    sourcereader = list(csv.reader(csvfile, delimiter=','))\n",
    "    index = [list(), list()]\n",
    "    threads = list()\n",
    "    for i in range(0, THREAD_NUM):\n",
    "        s = Thread(target=index_parallel, args=(sourcereader, i, THREAD_NUM, index))\n",
    "        s.start()\n",
    "        threads.append(s)\n",
    "    for thread in threads:\n",
    "        thread.join()\n",
    "\n",
    "    csvfile.close()\n",
    "\n",
    "    return index"
   ]
  },
  {
   "cell_type": "markdown",
   "metadata": {},
   "source": [
    "因為我們是以集合結構儲存新聞標題，為了程式碼簡潔與維護，將三種查詢對應到的操作邏輯獨立出區塊"
   ]
  },
  {
   "cell_type": "code",
   "execution_count": 5,
   "metadata": {},
   "outputs": [],
   "source": [
    "def or_search(print_list, queries, index_string, thread_index):\n",
    "    for (i, search_line) in enumerate(index_string):\n",
    "        if queries & search_line:\n",
    "            print_list.append(i*THREAD_NUM+thread_index+1)\n",
    "\n",
    "\n",
    "def and_search(print_list, queries, index_string, thread_index):\n",
    "    for (i, search_line) in enumerate(index_string):\n",
    "        if queries < search_line:\n",
    "            print_list.append(i*THREAD_NUM+thread_index+1)\n",
    "\n",
    "\n",
    "def not_search(print_list, in_element, notin_element, index_string, thread_index):\n",
    "    for (i, search_line) in enumerate(index_string):\n",
    "        if (in_element in search_line\n",
    "            and not notin_element < search_line):\n",
    "            print_list.append(i*THREAD_NUM+thread_index+1)"
   ]
  },
  {
   "cell_type": "markdown",
   "metadata": {},
   "source": [
    "若不是外部腳本則執行運算"
   ]
  },
  {
   "cell_type": "code",
   "execution_count": 6,
   "metadata": {},
   "outputs": [
    {
     "name": "stdout",
     "output_type": "stream",
     "text": [
      "CPU times: user 2min 10s, sys: 38.6 s, total: 2min 49s\n",
      "Wall time: 3min 5s\n"
     ]
    }
   ],
   "source": [
    "%%time\n",
    "if __name__ == '__main__':\n",
    "\n",
    "    import argparse\n",
    "    # python main.py --source source.csv --query query.txt --output output.txt\n",
    "    parser = argparse.ArgumentParser()\n",
    "    parser.add_argument('--source',\n",
    "                        default='source.csv',\n",
    "                        help='input source data file name')\n",
    "    parser.add_argument('--query',\n",
    "                        default='query.txt',\n",
    "                        help='query file name')\n",
    "    parser.add_argument('--output',\n",
    "                        default='output.txt',\n",
    "                        help='output file name')\n",
    "    # args = parser.parse_args()\n",
    "    args = parser.parse_args(['--query', 'query.1.txt'])\n",
    "\n",
    "    index_string = split_line(args.source)\n",
    "    with open(args.output, 'w') as o, open(args.query, 'r') as q:\n",
    "        for query_line in q:\n",
    "            query_line = re.sub('\\n', '', query_line)\n",
    "            # with Manager() as manager:\n",
    "            print_list = list()\n",
    "            threads = list()\n",
    "            if 'or' in query_line:\n",
    "                queries = set(re.split(' or ', query_line))\n",
    "                for i in range(0, THREAD_NUM):\n",
    "                    s = Thread(target=or_search,\n",
    "                                args=(print_list, queries, index_string[i], i))\n",
    "                    s.start()\n",
    "                    threads.append(s)\n",
    "\n",
    "            elif 'and' in query_line:\n",
    "                queries = set(re.split(' and ', query_line))\n",
    "                for i in range(0, THREAD_NUM):\n",
    "                    s = Thread(target=and_search,\n",
    "                                args=(print_list, queries, index_string[i], i))\n",
    "                    s.start()\n",
    "                    threads.append(s)\n",
    "            elif 'not' in query_line:\n",
    "                queries = re.split(' not ', query_line)\n",
    "                in_element = queries[0]\n",
    "                notin_element = set(queries[1:])\n",
    "                for i in range(0, THREAD_NUM):\n",
    "                    s = Thread(target=not_search,\n",
    "                                args=(print_list, in_element, notin_element, index_string[i], i))\n",
    "                    s.start()\n",
    "                    threads.append(s)\n",
    "\n",
    "            for thread in threads:\n",
    "                thread.join()\n",
    "\n",
    "            if not print_list:\n",
    "                print('0', file=o)\n",
    "            else:\n",
    "                print_list.sort()\n",
    "                print(','.join(map(str, print_list)), file=o)\n"
   ]
  },
  {
   "cell_type": "code",
   "execution_count": null,
   "metadata": {},
   "outputs": [],
   "source": []
  }
 ],
 "metadata": {
  "kernelspec": {
   "display_name": "Python 3",
   "language": "python",
   "name": "python3"
  },
  "language_info": {
   "codemirror_mode": {
    "name": "ipython",
    "version": 3
   },
   "file_extension": ".py",
   "mimetype": "text/x-python",
   "name": "python",
   "nbconvert_exporter": "python",
   "pygments_lexer": "ipython3",
   "version": "3.6.4"
  }
 },
 "nbformat": 4,
 "nbformat_minor": 2
}
